{
  "cells": [
    {
      "cell_type": "code",
      "execution_count": null,
      "metadata": {
        "colab": {
          "base_uri": "https://localhost:8080/"
        },
        "id": "eY5O-I2rn1wb",
        "outputId": "e9e9d893-df5d-41e9-a18a-3631afdd5c2c"
      },
      "outputs": [
        {
          "output_type": "stream",
          "name": "stdout",
          "text": [
            "         *\n",
            "        ***\n",
            "       *****\n",
            "      *******\n",
            "     *********\n",
            "    ***********\n",
            "   *************\n",
            "  ***************\n",
            " *****************\n",
            "        ***\n",
            "        ***\n",
            "        ***\n",
            "        ***\n",
            "        ***\n"
          ]
        }
      ],
      "source": [
        "height=9\n",
        "star=1\n",
        "for i in range(height):\n",
        "  print(\" \" * (height-i)+ \"*\" * star)\n",
        "  star+=2\n",
        "for j in range(5):\n",
        "    print(\" \" * 8+ \"*\" * 3)"
      ]
    },
    {
      "cell_type": "code",
      "execution_count": null,
      "metadata": {
        "colab": {
          "base_uri": "https://localhost:8080/"
        },
        "id": "GP_LysJHr53S",
        "outputId": "e09a9cf5-de4d-416a-f929-0590f1a0ee5b"
      },
      "outputs": [
        {
          "output_type": "stream",
          "name": "stdout",
          "text": [
            "輸入四個數字(不會重複)：12345\n",
            "輸入字數過多，請輸入四個數字：1234\n",
            "1234: 1A1B\n",
            "輸入四個數字(不會重複)：1345\n",
            "1345: 0A3B\n",
            "輸入四個數字(不會重複)：5431\n",
            "5431: 2A1B\n",
            "輸入四個數字(不會重複)：5134\n",
            "5134: 3A0B\n",
            "輸入四個數字(不會重複)：5136\n",
            "5136: 3A0B\n",
            "輸入四個數字(不會重複)：5137\n",
            "5137: 3A0B\n",
            "輸入四個數字(不會重複)：5138\n",
            "5138: 3A0B\n",
            "輸入四個數字(不會重複)：5139\n",
            "5139: 4A0B\n",
            "答對了，總共猜了8次\n"
          ]
        }
      ],
      "source": [
        "import random\n",
        "answer=random.sample(range(1, 10), 4)\n",
        "a=b=n=0\n",
        "num=0\n",
        "while a!=4:\n",
        "    trial=list(input(\"輸入四個數字(不會重複)：\"))\n",
        "    if len(trial)>4:\n",
        "        trial=input(\"輸入字數過多，請輸入四個數字：\")\n",
        "    elif len(trial)<4:\n",
        "        trial=input(\"輸入字數過少，請輸入四個數字：\")\n",
        "    num+=1\n",
        "    a=b=n=0\n",
        "    for i in trial:\n",
        "        if int(trial[n])==answer[n]:\n",
        "           a+=1\n",
        "        elif int(i) in answer:\n",
        "           b+=1\n",
        "        n+=1\n",
        "    for i in range(4):\n",
        "        print(trial[i],end=\"\")\n",
        "    print(\":\",f'{a}A{b}B')\n",
        "if a==4:\n",
        "    print(f'答對了，總共猜了{num}次')"
      ]
    }
  ],
  "metadata": {
    "colab": {
      "provenance": []
    },
    "kernelspec": {
      "display_name": "Python 3",
      "name": "python3"
    },
    "language_info": {
      "name": "python"
    }
  },
  "nbformat": 4,
  "nbformat_minor": 0
}